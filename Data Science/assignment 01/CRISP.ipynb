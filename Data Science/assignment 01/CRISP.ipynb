{
 "cells": [
  {
   "cell_type": "markdown",
   "id": "7637fd34",
   "metadata": {},
   "source": [
    "# Data Methodology"
   ]
  },
  {
   "cell_type": "markdown",
   "id": "89d720ee",
   "metadata": {},
   "source": [
    "## CRISP method :\n",
    "### Cross-Industry Standard Process for Data Mining"
   ]
  },
  {
   "cell_type": "markdown",
   "id": "4dc2d2fd",
   "metadata": {},
   "source": [
    "## Business Understanding\n",
    "### At this stage, we must have a correct understanding of the goals of the work (project)."
   ]
  },
  {
   "cell_type": "markdown",
   "id": "1fe958f8",
   "metadata": {},
   "source": [
    "## Analytic Approach\n",
    "### This step to present a problem divides it into small parts by numbers."
   ]
  },
  {
   "cell_type": "markdown",
   "id": "c4e0bee4",
   "metadata": {},
   "source": [
    "## Data Requirements\n",
    "### This step is to identify, prioritize, formulate and validate the data needed to achieve the project goal."
   ]
  },
  {
   "cell_type": "markdown",
   "id": "be7d1782",
   "metadata": {},
   "source": [
    "## Data Collection\n",
    "### This step is the process of collecting and analyzing relevant information in a predetermined manner."
   ]
  },
  {
   "cell_type": "markdown",
   "id": "394af65d",
   "metadata": {},
   "source": [
    "## Data Understanding\n",
    "### This phase covers learning data concepts, data analysis, and the roles, services, and products of data."
   ]
  },
  {
   "cell_type": "markdown",
   "id": "7e9b2e24",
   "metadata": {},
   "source": [
    "## Data Preparation\n",
    "### the process of cleaning and transforming raw data prior to processing and analysis."
   ]
  },
  {
   "cell_type": "markdown",
   "id": "f32ab290",
   "metadata": {},
   "source": [
    "## Modeling\n",
    "### This step of data modeling is the idea of designing the database structure that defines the database functions"
   ]
  },
  {
   "cell_type": "markdown",
   "id": "0847a6a4",
   "metadata": {},
   "source": [
    "## Evaluation\n",
    "### At this stage, it is measured which model best suits the business and what needs to be done."
   ]
  },
  {
   "cell_type": "markdown",
   "id": "f44e1b77",
   "metadata": {},
   "source": [
    "## Deployment\n",
    "### At this stage using a model to predict by means of new data"
   ]
  },
  {
   "cell_type": "markdown",
   "id": "6542990c",
   "metadata": {},
   "source": [
    "## Feedback\n",
    "### The outputs of a system are the inputs as part of a cause and effect chain that forms a circuit or loop."
   ]
  },
  {
   "cell_type": "code",
   "execution_count": null,
   "id": "e80713a5",
   "metadata": {},
   "outputs": [],
   "source": []
  }
 ],
 "metadata": {
  "kernelspec": {
   "display_name": "Python 3 (ipykernel)",
   "language": "python",
   "name": "python3"
  },
  "language_info": {
   "codemirror_mode": {
    "name": "ipython",
    "version": 3
   },
   "file_extension": ".py",
   "mimetype": "text/x-python",
   "name": "python",
   "nbconvert_exporter": "python",
   "pygments_lexer": "ipython3",
   "version": "3.11.5"
  }
 },
 "nbformat": 4,
 "nbformat_minor": 5
}
