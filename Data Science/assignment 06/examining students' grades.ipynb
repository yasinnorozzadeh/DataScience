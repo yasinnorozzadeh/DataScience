{
 "cells": [
  {
   "cell_type": "code",
   "execution_count": 1,
   "id": "ec5d2691",
   "metadata": {},
   "outputs": [
    {
     "name": "stdout",
     "output_type": "stream",
     "text": [
      "Requirement already satisfied: pandas in c:\\users\\yasin\\.conda\\envs\\datas\\lib\\site-packages (2.1.2)\n",
      "Requirement already satisfied: numpy<2,>=1.22.4 in c:\\users\\yasin\\.conda\\envs\\datas\\lib\\site-packages (from pandas) (1.26.0)\n",
      "Requirement already satisfied: python-dateutil>=2.8.2 in c:\\users\\yasin\\.conda\\envs\\datas\\lib\\site-packages (from pandas) (2.8.2)\n",
      "Requirement already satisfied: pytz>=2020.1 in c:\\users\\yasin\\.conda\\envs\\datas\\lib\\site-packages (from pandas) (2023.3.post1)\n",
      "Requirement already satisfied: tzdata>=2022.1 in c:\\users\\yasin\\.conda\\envs\\datas\\lib\\site-packages (from pandas) (2023.3)\n",
      "Requirement already satisfied: six>=1.5 in c:\\users\\yasin\\.conda\\envs\\datas\\lib\\site-packages (from python-dateutil>=2.8.2->pandas) (1.16.0)\n",
      "Note: you may need to restart the kernel to use updated packages.\n"
     ]
    }
   ],
   "source": [
    "pip install pandas"
   ]
  },
  {
   "cell_type": "code",
   "execution_count": 2,
   "id": "25831b78",
   "metadata": {},
   "outputs": [],
   "source": [
    "import numpy as np\n",
    "import pandas as pd\n"
   ]
  },
  {
   "cell_type": "code",
   "execution_count": 3,
   "metadata": {},
   "outputs": [
    {
     "data": {
      "text/plain": [
       "array(['math', 'arabic', 'geography', 'history', 'english', 'literature',\n",
       "       'physic', 'chemistry', 'trigonometry', 'biology', 'geometry'],\n",
       "      dtype='<U12')"
      ]
     },
     "execution_count": 3,
     "metadata": {},
     "output_type": "execute_result"
    }
   ],
   "source": [
    "less = input(\"enter name of lessons:\")\n",
    "lessons = np.array(less.split(\",\"))\n",
    "lessons"
   ]
  },
  {
   "cell_type": "code",
   "execution_count": 5,
   "id": "fcf9f20a",
   "metadata": {},
   "outputs": [],
   "source": [
    "students_names = []\n",
    "for n in range(1, 6):\n",
    "    student_name = input(\"enter student's name: \")\n",
    "    students_names.append(student_name)\n",
    "st1_scores = np.array([float(input(f\"enter score of {students_names[0]} lesson {lessons[i]}:\")) for i in range(len(lessons))])\n",
    "st2_scores = np.array([float(input(f\"enter score of {students_names[1]} lesson {lessons[i]}:\")) for i in range(len(lessons))])\n",
    "st3_scores = np.array([float(input(f\"enter score of {students_names[2]} lesson {lessons[i]}:\")) for i in range(len(lessons))])\n",
    "st4_scores = np.array([float(input(f\"enter score of {students_names[3]} lesson {lessons[i]}:\")) for i in range(len(lessons))])\n",
    "st5_scores = np.array([float(input(f\"enter score of {students_names[4]} lesson {lessons[i]}:\")) for i in range(len(lessons))])"
   ]
  },
  {
   "cell_type": "code",
   "execution_count": 6,
   "id": "3eab17bc",
   "metadata": {},
   "outputs": [
    {
     "data": {
      "text/html": [
       "<div>\n",
       "<style scoped>\n",
       "    .dataframe tbody tr th:only-of-type {\n",
       "        vertical-align: middle;\n",
       "    }\n",
       "\n",
       "    .dataframe tbody tr th {\n",
       "        vertical-align: top;\n",
       "    }\n",
       "\n",
       "    .dataframe thead th {\n",
       "        text-align: right;\n",
       "    }\n",
       "</style>\n",
       "<table border=\"1\" class=\"dataframe\">\n",
       "  <thead>\n",
       "    <tr style=\"text-align: right;\">\n",
       "      <th></th>\n",
       "      <th>mahan</th>\n",
       "      <th>yasin</th>\n",
       "      <th>ali</th>\n",
       "      <th>erfan</th>\n",
       "      <th>arman</th>\n",
       "    </tr>\n",
       "  </thead>\n",
       "  <tbody>\n",
       "    <tr>\n",
       "      <th>math</th>\n",
       "      <td>18.0</td>\n",
       "      <td>19.0</td>\n",
       "      <td>20.0</td>\n",
       "      <td>20.0</td>\n",
       "      <td>19.0</td>\n",
       "    </tr>\n",
       "    <tr>\n",
       "      <th>arabic</th>\n",
       "      <td>16.0</td>\n",
       "      <td>20.0</td>\n",
       "      <td>18.0</td>\n",
       "      <td>17.0</td>\n",
       "      <td>18.0</td>\n",
       "    </tr>\n",
       "    <tr>\n",
       "      <th>geography</th>\n",
       "      <td>14.0</td>\n",
       "      <td>15.0</td>\n",
       "      <td>17.0</td>\n",
       "      <td>16.0</td>\n",
       "      <td>14.0</td>\n",
       "    </tr>\n",
       "    <tr>\n",
       "      <th>history</th>\n",
       "      <td>15.0</td>\n",
       "      <td>18.0</td>\n",
       "      <td>0.0</td>\n",
       "      <td>16.0</td>\n",
       "      <td>15.0</td>\n",
       "    </tr>\n",
       "    <tr>\n",
       "      <th>english</th>\n",
       "      <td>20.0</td>\n",
       "      <td>14.0</td>\n",
       "      <td>20.0</td>\n",
       "      <td>15.0</td>\n",
       "      <td>11.0</td>\n",
       "    </tr>\n",
       "    <tr>\n",
       "      <th>literature</th>\n",
       "      <td>18.0</td>\n",
       "      <td>7.0</td>\n",
       "      <td>15.0</td>\n",
       "      <td>18.0</td>\n",
       "      <td>10.0</td>\n",
       "    </tr>\n",
       "    <tr>\n",
       "      <th>physic</th>\n",
       "      <td>19.0</td>\n",
       "      <td>8.0</td>\n",
       "      <td>16.0</td>\n",
       "      <td>20.0</td>\n",
       "      <td>12.0</td>\n",
       "    </tr>\n",
       "    <tr>\n",
       "      <th>chemistry</th>\n",
       "      <td>17.0</td>\n",
       "      <td>20.0</td>\n",
       "      <td>19.0</td>\n",
       "      <td>13.0</td>\n",
       "      <td>10.0</td>\n",
       "    </tr>\n",
       "    <tr>\n",
       "      <th>trigonometry</th>\n",
       "      <td>10.0</td>\n",
       "      <td>15.0</td>\n",
       "      <td>18.0</td>\n",
       "      <td>20.0</td>\n",
       "      <td>19.0</td>\n",
       "    </tr>\n",
       "    <tr>\n",
       "      <th>biology</th>\n",
       "      <td>11.0</td>\n",
       "      <td>18.0</td>\n",
       "      <td>19.0</td>\n",
       "      <td>17.0</td>\n",
       "      <td>20.0</td>\n",
       "    </tr>\n",
       "    <tr>\n",
       "      <th>geometry</th>\n",
       "      <td>13.0</td>\n",
       "      <td>16.0</td>\n",
       "      <td>13.0</td>\n",
       "      <td>14.0</td>\n",
       "      <td>15.0</td>\n",
       "    </tr>\n",
       "  </tbody>\n",
       "</table>\n",
       "</div>"
      ],
      "text/plain": [
       "              mahan  yasin   ali  erfan  arman\n",
       "math           18.0   19.0  20.0   20.0   19.0\n",
       "arabic         16.0   20.0  18.0   17.0   18.0\n",
       "geography      14.0   15.0  17.0   16.0   14.0\n",
       "history        15.0   18.0   0.0   16.0   15.0\n",
       "english        20.0   14.0  20.0   15.0   11.0\n",
       "literature     18.0    7.0  15.0   18.0   10.0\n",
       "physic         19.0    8.0  16.0   20.0   12.0\n",
       "chemistry      17.0   20.0  19.0   13.0   10.0\n",
       "trigonometry   10.0   15.0  18.0   20.0   19.0\n",
       "biology        11.0   18.0  19.0   17.0   20.0\n",
       "geometry       13.0   16.0  13.0   14.0   15.0"
      ]
     },
     "execution_count": 6,
     "metadata": {},
     "output_type": "execute_result"
    }
   ],
   "source": [
    "show = pd.DataFrame({students_names[0]:st1_scores, \n",
    "                     students_names[1]:st2_scores,\n",
    "                     students_names[2]:st3_scores,\n",
    "                     students_names[3]:st4_scores,\n",
    "                     students_names[4]:st5_scores,}, index = [lessons[0], lessons[1], lessons[2], \n",
    "                                                              lessons[3], lessons[4], lessons[5], \n",
    "                                                              lessons[6], lessons[7], lessons[8], lessons[9], lessons[10]])\n",
    "show"
   ]
  },
  {
   "cell_type": "code",
   "execution_count": 7,
   "metadata": {},
   "outputs": [
    {
     "data": {
      "text/html": [
       "<div>\n",
       "<style scoped>\n",
       "    .dataframe tbody tr th:only-of-type {\n",
       "        vertical-align: middle;\n",
       "    }\n",
       "\n",
       "    .dataframe tbody tr th {\n",
       "        vertical-align: top;\n",
       "    }\n",
       "\n",
       "    .dataframe thead th {\n",
       "        text-align: right;\n",
       "    }\n",
       "</style>\n",
       "<table border=\"1\" class=\"dataframe\">\n",
       "  <thead>\n",
       "    <tr style=\"text-align: right;\">\n",
       "      <th></th>\n",
       "      <th>average of mahan scores</th>\n",
       "      <th>average of yasin scores</th>\n",
       "      <th>average of ali scores</th>\n",
       "      <th>average of erfan scores</th>\n",
       "      <th>average of arman scores</th>\n",
       "    </tr>\n",
       "  </thead>\n",
       "  <tbody>\n",
       "    <tr>\n",
       "      <th>0</th>\n",
       "      <td>15.545455</td>\n",
       "      <td>15.454545</td>\n",
       "      <td>15.909091</td>\n",
       "      <td>16.909091</td>\n",
       "      <td>14.818182</td>\n",
       "    </tr>\n",
       "  </tbody>\n",
       "</table>\n",
       "</div>"
      ],
      "text/plain": [
       "   average of mahan scores  average of yasin scores  average of ali scores  \\\n",
       "0                15.545455                15.454545              15.909091   \n",
       "\n",
       "   average of erfan scores  average of arman scores  \n",
       "0                16.909091                14.818182  "
      ]
     },
     "execution_count": 7,
     "metadata": {},
     "output_type": "execute_result"
    }
   ],
   "source": [
    "\n",
    "mean_of_scores = pd.DataFrame({f\"average of {students_names[0]} scores\" : [np.average(st1_scores)], \n",
    "                              f\"average of {students_names[1]} scores\" : [np.average(st2_scores)],\n",
    "                              f\"average of {students_names[2]} scores\" : [np.average(st3_scores)],\n",
    "                              f\"average of {students_names[3]} scores\" : [np.average(st4_scores)],\n",
    "                              f\"average of {students_names[4]} scores\" : [np.average(st5_scores)]})\n",
    "mean_of_scores"
   ]
  },
  {
   "cell_type": "code",
   "execution_count": null,
   "metadata": {},
   "outputs": [],
   "source": []
  }
 ],
 "metadata": {
  "kernelspec": {
   "display_name": "Python 3 (ipykernel)",
   "language": "python",
   "name": "python3"
  },
  "language_info": {
   "codemirror_mode": {
    "name": "ipython",
    "version": 3
   },
   "file_extension": ".py",
   "mimetype": "text/x-python",
   "name": "python",
   "nbconvert_exporter": "python",
   "pygments_lexer": "ipython3",
   "version": "3.10.13"
  }
 },
 "nbformat": 4,
 "nbformat_minor": 5
}
