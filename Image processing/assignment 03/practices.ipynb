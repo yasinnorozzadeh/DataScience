{
 "cells": [
  {
   "cell_type": "code",
   "execution_count": 79,
   "id": "39ba46f5",
   "metadata": {},
   "outputs": [
    {
     "name": "stdout",
     "output_type": "stream",
     "text": [
      "enter list of number: 40,125,36\n",
      "[36.0, 40.0, 125.0]\n"
     ]
    }
   ],
   "source": [
    "# Practice 1\n",
    "num = input(\"enter list of number: \")\n",
    "list_nums = num.split(\",\")\n",
    "numbers = []\n",
    "for i in list_nums:\n",
    "    i = float(i)\n",
    "    numbers.append(i) \n",
    "print(sorted(numbers))"
   ]
  },
  {
   "cell_type": "code",
   "execution_count": 14,
   "id": "f362cbaf",
   "metadata": {},
   "outputs": [
    {
     "name": "stdout",
     "output_type": "stream",
     "text": [
      "enter list of number: 45,30,21,74,102\n",
      "min: 21.0\n",
      "max: 102.0\n"
     ]
    }
   ],
   "source": [
    "# Practice 2\n",
    "num = input(\"enter list of number: \")\n",
    "list_nums = num.split(\",\")\n",
    "numbers = []\n",
    "for i in list_nums:\n",
    "    i = float(i)\n",
    "    numbers.append(i) \n",
    "print(\"min:\", min(numbers))\n",
    "print(\"max:\", max(numbers))"
   ]
  },
  {
   "cell_type": "code",
   "execution_count": 17,
   "id": "52483f31",
   "metadata": {},
   "outputs": [
    {
     "name": "stdout",
     "output_type": "stream",
     "text": [
      "enter your string: python class\n",
      "{'p': 1, 'y': 1, 't': 1, 'h': 1, 'o': 1, 'n': 1, ' ': 1, 'c': 1, 'l': 1, 'a': 1, 's': 2}\n"
     ]
    }
   ],
   "source": [
    "# Practice 3\n",
    "chars = input(\"enter your string: \")\n",
    "number_of_chars = {}\n",
    "for i in chars:\n",
    "    if i not in number_of_chars:\n",
    "        number_of_chars[i] = 0\n",
    "    if i in number_of_chars:\n",
    "        number_of_chars[i] += 1\n",
    "print(number_of_chars)"
   ]
  },
  {
   "cell_type": "code",
   "execution_count": 67,
   "id": "81c17be3",
   "metadata": {},
   "outputs": [
    {
     "name": "stdout",
     "output_type": "stream",
     "text": [
      "enter list of number: 5,4,6,7,1,9,3\n",
      "5.0 5.0\n",
      "4.0 6.0\n",
      "7.0 3.0\n",
      "1.0 9.0\n"
     ]
    }
   ],
   "source": [
    "# Practice 4\n",
    "def find(nums, len, sum_nums):\n",
    "    for i in range(len):\n",
    "        for j in range(i, len):\n",
    "            if (nums[i] + nums[j]) == sum_nums:\n",
    "                print(nums[i], nums[j])\n",
    "num = input(\"enter list of number: \")\n",
    "list_nums = num.split(\",\")\n",
    "numbers = []\n",
    "for i in list_nums:\n",
    "    i = float(i)\n",
    "    numbers.append(i) \n",
    "sum_nums = 10\n",
    "find(numbers, len(numbers), sum_nums)"
   ]
  },
  {
   "cell_type": "code",
   "execution_count": 64,
   "id": "24e7fbaa",
   "metadata": {},
   "outputs": [
    {
     "name": "stdout",
     "output_type": "stream",
     "text": [
      "Counter({'a': 400, 'b': 400, 'd': 400, 'c': 300})\n"
     ]
    }
   ],
   "source": [
    "# Practice 5\n",
    "from collections import Counter\n",
    "d1 = {'a': 100, 'b': 200, 'c':300}\n",
    "d2 = {'a': 300, 'b': 200, 'd':400}\n",
    "# d3 = {i: d1.get(i, 0)+ d2.get(i, 0)\n",
    "#      for i in set(d2).union(d1)}     \n",
    "d3 = Counter(d1) + Counter(d2)\n",
    "print(d3)"
   ]
  },
  {
   "cell_type": "code",
   "execution_count": 73,
   "id": "0ee3810c",
   "metadata": {},
   "outputs": [
    {
     "name": "stdout",
     "output_type": "stream",
     "text": [
      "[3, 5, 7]\n"
     ]
    }
   ],
   "source": [
    "# Practice 6\n",
    "tupels_list = [(1, 2), (2, 3), (3, 4)]\n",
    "sum_tupels = []\n",
    "for i in range(len(tupels_list)):\n",
    "    sum_tupels.append(tupels_list[i][1] + tupels_list[i][0])\n",
    "print(sum_tupels)"
   ]
  },
  {
   "cell_type": "code",
   "execution_count": 74,
   "id": "2573403b",
   "metadata": {},
   "outputs": [
    {
     "name": "stdout",
     "output_type": "stream",
     "text": [
      "Missing values in first list: {7, 8, 9}\n",
      "Missing values in second list: {1, 2, 3}\n"
     ]
    }
   ],
   "source": [
    "# Practice 7\n",
    "list1 = [1, 2, 3, 4, 5, 6]\n",
    "list2 = [4, 5, 6, 7, 8, 9]\n",
    "print(\"Missing values in first list:\", (set(list2).difference(list1)))\n",
    "print(\"Missing values in second list:\", (set(list1).difference(list2)))"
   ]
  },
  {
   "cell_type": "code",
   "execution_count": 27,
   "id": "59c4b730",
   "metadata": {},
   "outputs": [
    {
     "name": "stdout",
     "output_type": "stream",
     "text": [
      "enter list of number: 1,2,3,4,5,6,7,8,9\n",
      "[2.0, 4.0, 6.0, 8.0]\n"
     ]
    }
   ],
   "source": [
    "# Practice 8\n",
    "num = input(\"enter list of number: \")\n",
    "list_nums = num.split(\",\")\n",
    "numbers = []\n",
    "even_numbers = []\n",
    "for i in list_nums:\n",
    "    i = float(i)\n",
    "    numbers.append(i) \n",
    "for i in numbers:\n",
    "    if i % 2 == 0:\n",
    "       even_numbers.append(i) \n",
    "print(even_numbers)"
   ]
  },
  {
   "cell_type": "code",
   "execution_count": 78,
   "id": "1d96fe02",
   "metadata": {},
   "outputs": [
    {
     "name": "stdout",
     "output_type": "stream",
     "text": [
      "5\n"
     ]
    }
   ],
   "source": [
    "# Practice 9\n",
    "def find_number(list_num, N):\n",
    "    list_of_zeros = [0] * (N+1)\n",
    "    for i in range(0, N):\n",
    "        list_of_zeros[list_num[i] - 1] = 1\n",
    "    for i in range(0, N+1):\n",
    "        if(list_of_zeros[i] == 0):\n",
    "            result = i + 1\n",
    "    print(result)\n",
    "\n",
    "list_nums = [1, 2, 3, 4, 6, 7, 8]\n",
    "N = len(list_nums)\n",
    "find_number(list_nums, N)"
   ]
  }
 ],
 "metadata": {
  "kernelspec": {
   "display_name": "Python 3 (ipykernel)",
   "language": "python",
   "name": "python3"
  },
  "language_info": {
   "codemirror_mode": {
    "name": "ipython",
    "version": 3
   },
   "file_extension": ".py",
   "mimetype": "text/x-python",
   "name": "python",
   "nbconvert_exporter": "python",
   "pygments_lexer": "ipython3",
   "version": "3.11.5"
  }
 },
 "nbformat": 4,
 "nbformat_minor": 5
}
