{
 "cells": [
  {
   "cell_type": "markdown",
   "id": "0fa4a5b0",
   "metadata": {},
   "source": [
    "# call library"
   ]
  },
  {
   "cell_type": "code",
   "execution_count": null,
   "id": "34afbf75",
   "metadata": {},
   "outputs": [],
   "source": [
    "import cv2"
   ]
  },
  {
   "cell_type": "markdown",
   "id": "566c8486",
   "metadata": {},
   "source": [
    "# detect and crop faces"
   ]
  },
  {
   "cell_type": "code",
   "execution_count": 3,
   "id": "2245237d",
   "metadata": {},
   "outputs": [],
   "source": [
    "class CropFace:\n",
    "    def __init__(self):\n",
    "        # read images\n",
    "        self.normal_image = cv2.imread(r\"imgs\\normal.jpg\")\n",
    "        self.happy_image = cv2.imread(r\"imgs\\happy.jpg\")\n",
    "        self.sad_image = cv2.imread(r\"imgs\\sad.jpg\")\n",
    "        self.wondered_image = cv2.imread(r\"imgs\\wondered.jpg\")\n",
    "        self.angry_image = cv2.imread(r\"imgs\\angry.jpg\")\n",
    "        # resize main image\n",
    "        rimg = self.resize_image(self.normal_image)\n",
    "        face = rimg[170:260, 125:190]\n",
    "        cv2.imwrite(\"output images/normal_face.jpg\", face)\n",
    "\n",
    "    def crop_angry_image(self, img):\n",
    "        rimg = self.resize_image(img)\n",
    "        face = rimg[155:240, 320:380]\n",
    "        # show(rimg)\n",
    "        self.show(face)\n",
    "        cv2.imwrite(\"output images/angry_face.jpg\", face)\n",
    "        return face\n",
    "\n",
    "    def crop_sad_image(self, img):\n",
    "        rimg = self.resize_image(img)\n",
    "        face = rimg[150:270, 270:360]\n",
    "        # show(rimg)\n",
    "        self.show(face)\n",
    "        cv2.imwrite(\"output images/sad_face.jpg\", face)\n",
    "        return face\n",
    "\n",
    "    def crop_happy_image(self, img):\n",
    "        rimg = self.resize_image(img)\n",
    "        face = rimg[230:310, 205:260]\n",
    "        # show(rimg)\n",
    "        self.show(face)\n",
    "        cv2.imwrite(\"output images/happy_face.jpg\", face)\n",
    "        return face\n",
    "\n",
    "    def crop_wondered_image(self, img):\n",
    "        rimg = self.resize_image(img)\n",
    "        face = rimg[80:190, 295:365]\n",
    "        # show(rimg)\n",
    "        self.show(face)\n",
    "        cv2.imwrite(\"output images/wondered_face.jpg\", face)\n",
    "        return face\n",
    "\n",
    "    def show(self, img, name=\"face\"):\n",
    "        cv2.imshow(name, img)\n",
    "        cv2.waitKey(0)\n",
    "        cv2.destroyAllWindows()\n",
    "\n",
    "    def resize_image(self, img):\n",
    "        r, c, _ = img.shape\n",
    "        rimg = cv2.resize(img, (c//2, r//2))\n",
    "        return rimg"
   ]
  },
  {
   "cell_type": "markdown",
   "id": "2b409929",
   "metadata": {},
   "source": [
    "# draw rectangle around faces on image"
   ]
  },
  {
   "cell_type": "code",
   "execution_count": null,
   "id": "546913be",
   "metadata": {},
   "outputs": [],
   "source": [
    "class Draw_rectangle(CropFace):\n",
    "    def __init__(self):\n",
    "        super().__init__()\n",
    "        \n",
    "    def draw_on_happy_image(self):\n",
    "        img = self.happy_image\n",
    "        img = self.resize_image(img)\n",
    "        # 230:310, 205:260\n",
    "        cv2.rectangle(img, (260, 230), (205, 310), (255, 255, 20), 5)\n",
    "        self.show(img, \"rectangle\")\n",
    "        cv2.imwrite(\"output images/draw_rectangle_on_happy_face.jpg\", img)\n",
    "    \n",
    "    def draw_on_angry_image(self):\n",
    "        img = self.angry_image\n",
    "        img = self.resize_image(img)\n",
    "        # 155:240, 320:380\n",
    "        cv2.rectangle(img, (380, 155), (320, 240), (20, 255, 255), 5)\n",
    "        self.show(img, \"rectangle\")\n",
    "        cv2.imwrite(\"output images/draw_rectangle_on_angry_face.jpg\", img)\n",
    "\n",
    "    def draw_on_normal_image(self):\n",
    "        img = self.normal_image\n",
    "        img = self.resize_image(img)\n",
    "        # 170:260, 125:190\n",
    "        cv2.rectangle(img, (190, 170), (125, 260), (20, 255, 255), 5)\n",
    "        self.show(img, \"rectangle\")\n",
    "        cv2.imwrite(\"output images/draw_rectangle_on_normal_face.jpg\", img)\n",
    "\n",
    "    def draw_on_sad_image(self):\n",
    "        img = self.sad_image\n",
    "        img = self.resize_image(img)\n",
    "        # 150:270, 270:360\n",
    "        cv2.rectangle(img, (360, 150), (270, 270), (20, 255, 255), 5)\n",
    "        self.show(img, \"rectangle\")\n",
    "        cv2.imwrite(\"output images/draw_rectangle_on_sad_face.jpg\", img)\n",
    "\n",
    "    def draw_on_wondered_image(self):\n",
    "        img = self.wondered_image\n",
    "        img = self.resize_image(img)\n",
    "        # 80:190, 295:365\n",
    "        cv2.rectangle(img, (365, 80), (295, 190), (20, 255, 255), 5)\n",
    "        self.show(img, \"rectangle\")\n",
    "        cv2.imwrite(\"output images/draw_rectangle_on_wondered_face.jpg\", img)\n"
   ]
  },
  {
   "cell_type": "markdown",
   "id": "1ddf566c",
   "metadata": {},
   "source": [
    "# change faces"
   ]
  },
  {
   "cell_type": "code",
   "execution_count": null,
   "id": "8129e799",
   "metadata": {},
   "outputs": [],
   "source": [
    "class ChangeFace(CropFace):\n",
    "    def __init__(self):\n",
    "        super().__init__()\n",
    "        self.main_image = self.normal_image\n",
    "        self.main_image = self.resize_image(self.main_image)\n",
    "    # 170:260, 125:190    \n",
    "    def change_normal_to_happy(self):\n",
    "        rface = cv2.resize(self.crop_happy_image(self.happy_image), (190-125, 260-170))\n",
    "        self.main_image[170:260, 125:190] = rface\n",
    "        self.show(self.main_image, \"changed\")\n",
    "        cv2.imwrite(\"output images/change_normal_to_happy.jpg\", self.main_image)\n",
    "\n",
    "    def change_normal_to_sad(self):\n",
    "        rface = cv2.resize(self.crop_sad_image(self.sad_image), (190-125, 260-170))\n",
    "        self.main_image[170:260, 125:190] = rface\n",
    "        self.show(self.main_image, \"changed\")\n",
    "        cv2.imwrite(\"output images/change_normal_to_sad.jpg\", self.main_image)\n",
    "\n",
    "    def change_normal_to_angry(self):\n",
    "        rface = cv2.resize(self.crop_angry_image(self.angry_image), (190-125, 260-170))\n",
    "        self.main_image[170:260, 125:190] = rface\n",
    "        self.show(self.main_image, \"changed\")\n",
    "        cv2.imwrite(\"output images/change_normal_to_angry.jpg\", self.main_image)\n",
    "\n",
    "    def change_normal_to_wondered(self):\n",
    "        rface = cv2.resize(self.crop_wondered_image(self.wondered_image), (190-125, 260-170))\n",
    "        self.main_image[170:260, 125:190] = rface\n",
    "        self.show(self.main_image, \"changed\")\n",
    "        cv2.imwrite(\"output images/change_normal_to_wondered.jpg\", self.main_image)"
   ]
  },
  {
   "cell_type": "code",
   "execution_count": null,
   "id": "2c1f929a",
   "metadata": {},
   "outputs": [],
   "source": [
    "draw = Draw_rectangle()\n",
    "draw.draw_on_angry_image()\n",
    "draw.draw_on_happy_image()\n",
    "draw.draw_on_normal_image()\n",
    "draw.draw_on_sad_image()\n",
    "draw.draw_on_wondered_image()\n",
    "\n",
    "c = ChangeFace()\n",
    "c.change_normal_to_happy()\n",
    "c.change_normal_to_sad()\n",
    "c.change_normal_to_angry()\n",
    "c.change_normal_to_wondered()"
   ]
  }
 ],
 "metadata": {
  "kernelspec": {
   "display_name": "Python 3 (ipykernel)",
   "language": "python",
   "name": "python3"
  },
  "language_info": {
   "codemirror_mode": {
    "name": "ipython",
    "version": 3
   },
   "file_extension": ".py",
   "mimetype": "text/x-python",
   "name": "python",
   "nbconvert_exporter": "python",
   "pygments_lexer": "ipython3",
   "version": "3.11.5"
  }
 },
 "nbformat": 4,
 "nbformat_minor": 5
}
